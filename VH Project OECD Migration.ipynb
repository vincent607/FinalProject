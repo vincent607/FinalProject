{
 "cells": [
  {
   "cell_type": "code",
   "execution_count": 2,
   "metadata": {
    "collapsed": true
   },
   "outputs": [],
   "source": [
    "import pandas as pd\n",
    "import numpy as np\n",
    "import matplotlib.pyplot as plt\n",
    "import sklearn as sk\n",
    "from sklearn import neighbors\n",
    "from sklearn import linear_model\n",
    "from sklearn.linear_model import Lasso\n",
    "from sklearn.linear_model import Ridge\n",
    "from sklearn.preprocessing import StandardScaler\n",
    "from sklearn import cross_validation\n",
    "from sklearn.metrics import mean_squared_error\n",
    "from sklearn import grid_search\n",
    "from sklearn import cross_validation\n",
    "import statsmodels.formula.api as sm\n",
    "%matplotlib inline"
   ]
  },
  {
   "cell_type": "code",
   "execution_count": 3,
   "metadata": {
    "collapsed": false
   },
   "outputs": [],
   "source": [
    "df_migration = pd.read_csv('C:\\Users\\Microsoft\\Dropbox\\Family\\Vincent\\DataScience\\Final Project\\Migration Project Data Layout.csv')\n",
    "dtype={'Value':int}  \n"
   ]
  },
  {
   "cell_type": "code",
   "execution_count": 32,
   "metadata": {
    "collapsed": false
   },
   "outputs": [
    {
     "data": {
      "text/html": [
       "<div>\n",
       "<table border=\"1\" class=\"dataframe\">\n",
       "  <thead>\n",
       "    <tr style=\"text-align: right;\">\n",
       "      <th></th>\n",
       "      <th>Country_and_Time_Period</th>\n",
       "      <th>Migration Change</th>\n",
       "      <th>% Expenditure on healthcare</th>\n",
       "      <th>Infrastructure as % of GDP</th>\n",
       "      <th>Taxing Wages</th>\n",
       "      <th>Infant Mortality</th>\n",
       "      <th>Change in Unemployment</th>\n",
       "      <th>GDP Growth</th>\n",
       "      <th>Life Expectancy</th>\n",
       "    </tr>\n",
       "  </thead>\n",
       "  <tbody>\n",
       "    <tr>\n",
       "      <th>0</th>\n",
       "      <td>Australia 2001</td>\n",
       "      <td>0.193461</td>\n",
       "      <td>7.7040</td>\n",
       "      <td>0.8</td>\n",
       "      <td>21.20</td>\n",
       "      <td>5.2</td>\n",
       "      <td>0.417217</td>\n",
       "      <td>1.928669</td>\n",
       "      <td>79.634146</td>\n",
       "    </tr>\n",
       "    <tr>\n",
       "      <th>1</th>\n",
       "      <td>Australia 2002</td>\n",
       "      <td>-0.068793</td>\n",
       "      <td>7.8939</td>\n",
       "      <td>0.9</td>\n",
       "      <td>21.53</td>\n",
       "      <td>5.3</td>\n",
       "      <td>-0.347638</td>\n",
       "      <td>3.100574</td>\n",
       "      <td>80.062195</td>\n",
       "    </tr>\n",
       "    <tr>\n",
       "      <th>2</th>\n",
       "      <td>Australia 2003</td>\n",
       "      <td>0.036371</td>\n",
       "      <td>7.8996</td>\n",
       "      <td>1.0</td>\n",
       "      <td>21.96</td>\n",
       "      <td>5.0</td>\n",
       "      <td>-0.383958</td>\n",
       "      <td>3.491209</td>\n",
       "      <td>79.848171</td>\n",
       "    </tr>\n",
       "    <tr>\n",
       "      <th>3</th>\n",
       "      <td>Australia 2004</td>\n",
       "      <td>0.186612</td>\n",
       "      <td>8.1103</td>\n",
       "      <td>1.2</td>\n",
       "      <td>18.63</td>\n",
       "      <td>4.8</td>\n",
       "      <td>-0.425178</td>\n",
       "      <td>4.156585</td>\n",
       "      <td>80.490244</td>\n",
       "    </tr>\n",
       "    <tr>\n",
       "      <th>4</th>\n",
       "      <td>Australia 2005</td>\n",
       "      <td>0.104431</td>\n",
       "      <td>7.9778</td>\n",
       "      <td>1.3</td>\n",
       "      <td>20.80</td>\n",
       "      <td>4.7</td>\n",
       "      <td>-0.258171</td>\n",
       "      <td>3.216467</td>\n",
       "      <td>80.841463</td>\n",
       "    </tr>\n",
       "  </tbody>\n",
       "</table>\n",
       "</div>"
      ],
      "text/plain": [
       "  Country_and_Time_Period  Migration Change  % Expenditure on healthcare  \\\n",
       "0          Australia 2001          0.193461                       7.7040   \n",
       "1          Australia 2002         -0.068793                       7.8939   \n",
       "2          Australia 2003          0.036371                       7.8996   \n",
       "3          Australia 2004          0.186612                       8.1103   \n",
       "4          Australia 2005          0.104431                       7.9778   \n",
       "\n",
       "   Infrastructure as % of GDP  Taxing Wages  Infant Mortality  \\\n",
       "0                         0.8         21.20               5.2   \n",
       "1                         0.9         21.53               5.3   \n",
       "2                         1.0         21.96               5.0   \n",
       "3                         1.2         18.63               4.8   \n",
       "4                         1.3         20.80               4.7   \n",
       "\n",
       "   Change in Unemployment  GDP Growth  Life Expectancy  \n",
       "0                0.417217    1.928669        79.634146  \n",
       "1               -0.347638    3.100574        80.062195  \n",
       "2               -0.383958    3.491209        79.848171  \n",
       "3               -0.425178    4.156585        80.490244  \n",
       "4               -0.258171    3.216467        80.841463  "
      ]
     },
     "execution_count": 32,
     "metadata": {},
     "output_type": "execute_result"
    }
   ],
   "source": [
    "\n",
    "df_migration.head()\n"
   ]
  },
  {
   "cell_type": "code",
   "execution_count": 5,
   "metadata": {
    "collapsed": false
   },
   "outputs": [
    {
     "data": {
      "text/plain": [
       "['Country_and_Time_Period',\n",
       " 'Migration Change',\n",
       " '% Expenditure on healthcare',\n",
       " 'Infrastructure as % of GDP',\n",
       " 'Taxing Wages',\n",
       " 'Infant Mortality',\n",
       " 'Change in Unemployment',\n",
       " 'GDP Growth',\n",
       " 'Life Expectancy']"
      ]
     },
     "execution_count": 5,
     "metadata": {},
     "output_type": "execute_result"
    }
   ],
   "source": [
    "list(df_migration)"
   ]
  },
  {
   "cell_type": "code",
   "execution_count": 6,
   "metadata": {
    "collapsed": false,
    "scrolled": true
   },
   "outputs": [],
   "source": [
    "X = df_migration[['% Expenditure on healthcare',\n",
    " 'Infrastructure as % of GDP',\n",
    " 'Taxing Wages',\n",
    " 'Infant Mortality',\n",
    " 'Change in Unemployment',\n",
    " 'GDP Growth',\n",
    " 'Life Expectancy']]\n",
    "Y= df_migration[['Migration Change']]"
   ]
  },
  {
   "cell_type": "code",
   "execution_count": 7,
   "metadata": {
    "collapsed": false
   },
   "outputs": [
    {
     "name": "stdout",
     "output_type": "stream",
     "text": [
      "<class 'pandas.core.series.Series'>\n"
     ]
    }
   ],
   "source": [
    "print type(X['% Expenditure on healthcare'])"
   ]
  },
  {
   "cell_type": "code",
   "execution_count": 8,
   "metadata": {
    "collapsed": false
   },
   "outputs": [],
   "source": [
    "X_train, X_test, y_train, y_test = cross_validation.train_test_split(X, Y, test_size=0.2)   "
   ]
  },
  {
   "cell_type": "code",
   "execution_count": 9,
   "metadata": {
    "collapsed": false
   },
   "outputs": [
    {
     "name": "stdout",
     "output_type": "stream",
     "text": [
      "coefficient [[-0.00570808 -0.04674604 -0.00086831 -0.00062835 -0.04489041  0.00640662\n",
      "  -0.00077482]]\n",
      "intercept [ 0.2190714]\n",
      "Mean squared error for liner regression: 0.935513206549\n"
     ]
    }
   ],
   "source": [
    "lr_rgr = linear_model.LinearRegression()\n",
    "lr_rgr.fit(X_train,y_train)\n",
    "print(\"coefficient {}\".format(lr_rgr.coef_))\n",
    "print(\"intercept {}\".format(lr_rgr.intercept_))\n",
    "\n",
    "LR_MSE = mean_squared_error(y_test, lr_rgr.predict(X_test))\n",
    "print('Mean squared error for liner regression: {}'.format(LR_MSE))"
   ]
  },
  {
   "cell_type": "code",
   "execution_count": 12,
   "metadata": {
    "collapsed": false
   },
   "outputs": [
    {
     "name": "stdout",
     "output_type": "stream",
     "text": [
      "('Linear Mean Squared Error is', 0.93436639372235319)\n",
      "Linear Regression Model Coefficients Are:\n",
      "[(array([-0.0110035 , -0.01932493, -0.00914458, -0.00252218, -0.05282522,\n",
      "        0.01978495, -0.0020074 ]), '% Expenditure on healthcare')]\n"
     ]
    }
   ],
   "source": [
    "sk_linreg_model = sk.linear_model.LinearRegression()\n",
    "scaled_test_x = sk.preprocessing.scale(X_test)\n",
    "scaled_train_x = sk.preprocessing.scale(X_train)\n",
    "sk_linreg_model.fit(scaled_train_x,y_train.values)\n",
    "\n",
    "linreg_error = mean_squared_error(y_test,sk_linreg_model.predict(scaled_test_x))\n",
    "print('Linear Mean Squared Error is',linreg_error)\n",
    "print 'Linear Regression Model Coefficients Are:' \n",
    "print([i for i in zip(sk_linreg_model.coef_,X_test.keys())])"
   ]
  },
  {
   "cell_type": "code",
   "execution_count": 44,
   "metadata": {
    "collapsed": false
   },
   "outputs": [
    {
     "name": "stdout",
     "output_type": "stream",
     "text": [
      "('KNN Mean Squared Error is', 0.94342692802416317)\n"
     ]
    }
   ],
   "source": [
    "knn = neighbors.KNeighborsRegressor(n_neighbors = 20)\n",
    "knn_error = mean_squared_error(knn.fit(scaled_train_x, y_train).predict(scaled_test_x),y_test.values)\n",
    "print('KNN Mean Squared Error is',knn_error)"
   ]
  },
  {
   "cell_type": "code",
   "execution_count": 17,
   "metadata": {
    "collapsed": false
   },
   "outputs": [
    {
     "name": "stdout",
     "output_type": "stream",
     "text": [
      "('KNN Mean Squared Error is', 0.94532650993480338)\n",
      "('Best n_neighbors is', 21)\n"
     ]
    }
   ],
   "source": [
    "param_grid = [{'n_neighbors': range(1,50)}]\n",
    "\n",
    "knn = neighbors.KNeighborsRegressor()\n",
    "knn_cv = grid_search.GridSearchCV(knn, param_grid, cv=5)\n",
    "knn_cv.fit(scaled_train_x, y_train.values)\n",
    "\n",
    "knn_error = mean_squared_error(knn_cv.predict(scaled_test_x),y_test.values)\n",
    "print('KNN Mean Squared Error is',knn_error)\n",
    "print('Best n_neighbors is',knn_cv.best_params_['n_neighbors'])"
   ]
  },
  {
   "cell_type": "code",
   "execution_count": 25,
   "metadata": {
    "collapsed": false
   },
   "outputs": [
    {
     "name": "stdout",
     "output_type": "stream",
     "text": [
      "('Lasso Mean Squared Error is', 0.93450912251336626)\n",
      "('Best alpha is', 0.020408163363265307)\n",
      "Lasso Regression Model Coefficients Are:\n",
      "[(-0.0, '% Expenditure on healthcare'), (-0.0, 'Infrastructure as % of GDP'), (-0.0, 'Taxing Wages'), (0.0, 'Infant Mortality'), (-0.042328027236762066, 'Change in Unemployment'), (0.007746770045713865, 'GDP Growth'), (-0.0, 'Life Expectancy')]\n"
     ]
    }
   ],
   "source": [
    "param_grid = [{'alpha': np.linspace(1e-10, 1, 50)}]\n",
    "\n",
    "lasso_rgr = Lasso()\n",
    "lasso_cv = grid_search.GridSearchCV(lasso_rgr, param_grid, cv=5)\n",
    "lasso_cv.fit(scaled_train_x, y_train.values)\n",
    "lasso_error = mean_squared_error(lasso_cv.predict(scaled_test_x),y_test.values)\n",
    "\n",
    "print('Lasso Mean Squared Error is',lasso_error)\n",
    "print('Best alpha is',lasso_cv.best_params_['alpha'])\n",
    "print('Lasso Regression Model Coefficients Are:')\n",
    "print([i for i in zip(lasso_cv.best_estimator_.coef_,X_train.keys())])"
   ]
  },
  {
   "cell_type": "code",
   "execution_count": 45,
   "metadata": {
    "collapsed": false
   },
   "outputs": [
    {
     "name": "stdout",
     "output_type": "stream",
     "text": [
      "('Ridge Mean Squared Error is', 0.93437424392385726)\n",
      "('Best alpha is', 1.0)\n",
      "Ridge Regression Model Coefficients Are:\n",
      "[(array([-0.01097777, -0.01926323, -0.00910357, -0.00248135, -0.05263775,\n",
      "        0.01985519, -0.00197911]), '% Expenditure on healthcare')]\n"
     ]
    }
   ],
   "source": [
    "param_grid = [{'alpha': np.linspace(1e-10, 1, 50)}]\n",
    "ridge_rgr = Ridge()\n",
    "ridge_cv = grid_search.GridSearchCV(ridge_rgr, param_grid, cv=5)\n",
    "ridge_cv.fit(scaled_train_x, y_train.values)\n",
    "ridge_error = mean_squared_error(ridge_cv.predict(scaled_test_x),y_test.values)\n",
    "\n",
    "print('Ridge Mean Squared Error is',ridge_error)\n",
    "print('Best alpha is',ridge_cv.best_params_['alpha'])\n",
    "print('Ridge Regression Model Coefficients Are:')\n",
    "print([i for i in zip(ridge_cv.best_estimator_.coef_,X_train.keys())])"
   ]
  },
  {
   "cell_type": "code",
   "execution_count": 36,
   "metadata": {
    "collapsed": false
   },
   "outputs": [
    {
     "data": {
      "text/plain": [
       "<matplotlib.axes._subplots.AxesSubplot at 0x186cf588>"
      ]
     },
     "execution_count": 36,
     "metadata": {},
     "output_type": "execute_result"
    },
    {
     "data": {
      "image/png": "[encoded data removed]",
      "text/plain": [
       "<matplotlib.figure.Figure at 0x1b89f8d0>"
      ]
     },
     "metadata": {},
     "output_type": "display_data"
    }
   ],
   "source": [
    "df_migration['Migration Change'].hist(bins=50)"
   ]
  },
  {
   "cell_type": "code",
   "execution_count": 40,
   "metadata": {
    "collapsed": false
   },
   "outputs": [
    {
     "data": {
      "text/plain": [
       "<matplotlib.axes._subplots.AxesSubplot at 0x1bdf1898>"
      ]
     },
     "execution_count": 40,
     "metadata": {},
     "output_type": "execute_result"
    },
    {
     "data": {
      "image/png": "[encoded data removed]",
      "text/plain": [
       "<matplotlib.figure.Figure at 0x1ba61c50>"
      ]
     },
     "metadata": {},
     "output_type": "display_data"
    }
   ],
   "source": [
    "df_migration[df_migration['Migration Change']<1.5]['Migration Change'].hist(bins=20)"
   ]
  },
  {
   "cell_type": "code",
   "execution_count": null,
   "metadata": {
    "collapsed": true
   },
   "outputs": [],
   "source": []
  }
 ],
 "metadata": {
  "kernelspec": {
   "display_name": "Python 2",
   "language": "python",
   "name": "python2"
  },
  "language_info": {
   "codemirror_mode": {
    "name": "ipython",
    "version": 2
   },
   "file_extension": ".py",
   "mimetype": "text/x-python",
   "name": "python",
   "nbconvert_exporter": "python",
   "pygments_lexer": "ipython2",
   "version": "2.7.10"
  }
 },
 "nbformat": 4,
 "nbformat_minor": 0
}
